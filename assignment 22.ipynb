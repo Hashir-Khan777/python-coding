{
 "cells": [
  {
   "cell_type": "code",
   "execution_count": null,
   "metadata": {},
   "outputs": [
    {
     "name": "stdout",
     "output_type": "stream",
     "text": [
      "Enter your English marks67\n",
      "Enter your Science marks56\n",
      "Enter your computer marks57\n"
     ]
    }
   ],
   "source": [
    "eng = int(input(\"Enter your English marks\"))\n",
    "sci = int(input(\"Enter your Science marks\"))\n",
    "com = int(input(\"Enter your computer marks\"))\n",
    "isl = int(input(\"Enter your islamiat marks\"))\n",
    "urd = int(input(\"Enter your Urdu marks\"))\n",
    "obtained_marks = str(eng + sci + com + isl + urd * 425 / 100) \n",
    "mark_sheet = {\"English\":eng, \"Science\":sci, \"Computer\":com, \"islamiat\":isl, \"Urdu\":urd, \"percecentage\":obtained_marks}\n",
    "print (mark_sheet)"
   ]
  },
  {
   "cell_type": "code",
   "execution_count": null,
   "metadata": {},
   "outputs": [],
   "source": []
  },
  {
   "cell_type": "code",
   "execution_count": null,
   "metadata": {},
   "outputs": [],
   "source": []
  }
 ],
 "metadata": {
  "kernelspec": {
   "display_name": "Python 3",
   "language": "python",
   "name": "python3"
  },
  "language_info": {
   "codemirror_mode": {
    "name": "ipython",
    "version": 3
   },
   "file_extension": ".py",
   "mimetype": "text/x-python",
   "name": "python",
   "nbconvert_exporter": "python",
   "pygments_lexer": "ipython3",
   "version": "3.7.6"
  }
 },
 "nbformat": 4,
 "nbformat_minor": 4
}
